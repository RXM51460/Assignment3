{
 "cells": [
  {
   "cell_type": "code",
   "execution_count": 8,
   "metadata": {
    "colab": {
     "base_uri": "https://localhost:8080/"
    },
    "id": "1wzMvSGtemND",
    "outputId": "066d41eb-824c-47eb-b75c-872e728b086f"
   },
   "outputs": [
    {
     "name": "stdout",
     "output_type": "stream",
     "text": [
      "Total Employees: 4\n",
      "Average Salary: 74.25\n"
     ]
    }
   ],
   "source": [
    "class Employee:\n",
    "    total_employees = 0  # Class-level variable to count the number of Employees\n",
    "\n",
    "    def __init__(self, name, family, salary, department):\n",
    "        self.name = name\n",
    "        self.family = family\n",
    "        self.salary = salary\n",
    "        self.department = department\n",
    "        Employee.total_employees += 1  # Increment the count of employees\n",
    "\n",
    "    @staticmethod\n",
    "    def average_salary(employees):\n",
    "        total_salary = sum(employee.salary for employee in employees)\n",
    "        return total_salary / len(employees)\n",
    "\n",
    "class FulltimeEmployee(Employee):\n",
    "    pass\n",
    "\n",
    "\n",
    "employee1 = Employee(\"rahul\", \"rahul Family\", 75, \"ind\")\n",
    "employee2 = Employee(\"sagar\", \"sagar  Family\", 67, \"business\")\n",
    "\n",
    "\n",
    "fulltime_employee1 = FulltimeEmployee(\"hari\", \"hari's Family\", 88, \"Farming\")\n",
    "fulltime_employee2 = FulltimeEmployee(\"sai\", \"sai's Family\", 67, \"Fancy\")\n",
    "\n",
    "\n",
    "employees = [employee1, employee2, fulltime_employee1, fulltime_employee2]\n",
    "avg_salary = Employee.average_salary(employees)\n",
    "\n",
    "print(\"Total Employees:\", Employee.total_employees)\n",
    "print(\"Average Salary:\", avg_salary)"
   ]
  },
  {
   "cell_type": "code",
   "execution_count": 6,
   "metadata": {
    "colab": {
     "base_uri": "https://localhost:8080/"
    },
    "id": "OygJDPLde6Mq",
    "outputId": "2cb45339-f4ff-441a-e569-695a2d615ea4"
   },
   "outputs": [
    {
     "name": "stdout",
     "output_type": "stream",
     "text": [
      "Original random vector:\n",
      "[ 3.52956005  9.90428656  8.41449928  0.          9.58920403  9.88023674\n",
      "  9.19202597 12.76025212  0.         15.63754648  2.16905446 17.18975591\n",
      " 14.26736202  0.         12.4198311   8.8904243   6.44023276 11.72560272\n",
      "  1.52009899  0.        ]\n",
      "\n",
      "Reshaped array:\n",
      "[[ 3.52956005  9.90428656  8.41449928  0.          9.58920403]\n",
      " [ 9.88023674  9.19202597 12.76025212  0.         15.63754648]\n",
      " [ 2.16905446 17.18975591 14.26736202  0.         12.4198311 ]\n",
      " [ 8.8904243   6.44023276 11.72560272  1.52009899  0.        ]]\n"
     ]
    }
   ],
   "source": [
    "import numpy as np\n",
    "\n",
    "\n",
    "random_vector = np.random.uniform(1, 20, 20)\n",
    "\n",
    "\n",
    "reshaped_array = random_vector.reshape(4, 5)\n",
    "\n",
    "\n",
    "reshaped_array[np.arange(4), np.argmax(reshaped_array, axis=1)] = 0\n",
    "\n",
    "print(\"Original random vector:\")\n",
    "print(random_vector)\n",
    "print(\"\\nReshaped array:\")\n",
    "print(reshaped_array)\n"
   ]
  },
  {
   "cell_type": "code",
   "execution_count": null,
   "metadata": {},
   "outputs": [],
   "source": []
  }
 ],
 "metadata": {
  "colab": {
   "provenance": []
  },
  "kernelspec": {
   "display_name": "Python 3 (ipykernel)",
   "language": "python",
   "name": "python3"
  },
  "language_info": {
   "codemirror_mode": {
    "name": "ipython",
    "version": 3
   },
   "file_extension": ".py",
   "mimetype": "text/x-python",
   "name": "python",
   "nbconvert_exporter": "python",
   "pygments_lexer": "ipython3",
   "version": "3.9.13"
  }
 },
 "nbformat": 4,
 "nbformat_minor": 1
}
